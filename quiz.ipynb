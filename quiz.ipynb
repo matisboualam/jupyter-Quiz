{
 "cells": [
  {
   "cell_type": "markdown",
   "metadata": {},
   "source": [
    "# DUOLINGUO - Arabe dialectale algérien 🦜️🇩🇿"
   ]
  },
  {
   "cell_type": "code",
   "execution_count": 1,
   "metadata": {},
   "outputs": [],
   "source": [
    "import quiz_lib as Qlib\n",
    "import os\n",
    "import json\n",
    "import IPython\n",
    "import pydub\n",
    "import pandas as pd\n",
    "import random\n",
    "from pydub import AudioSegment\n",
    "from pydub.playback import play\n",
    "import pyaudio\n",
    "import wave\n",
    "import ipywidgets as widgets\n",
    "from IPython.display import Audio, display"
   ]
  },
  {
   "cell_type": "code",
   "execution_count": 2,
   "metadata": {},
   "outputs": [],
   "source": [
    "file_name = 'dictionnary.csv'"
   ]
  },
  {
   "cell_type": "code",
   "execution_count": 3,
   "metadata": {},
   "outputs": [
    {
     "data": {
      "application/vnd.jupyter.widget-view+json": {
       "model_id": "9b8a4a3fd1724914a89e9756baad1242",
       "version_major": 2,
       "version_minor": 0
      },
      "text/plain": [
       "VBox(children=(Text(value='', description='Mot:', placeholder='Type something'), Text(value='', description='T…"
      ]
     },
     "metadata": {},
     "output_type": "display_data"
    },
    {
     "name": "stdout",
     "output_type": "stream",
     "text": [
      "Dictionnaire :\n",
      "            mot         trad                      lienAudio        type\n",
      "0          NaN          NaN                            NaN         NaN\n",
      "1        Verre          Kes       au-description/Verre.mp3  nom commun\n",
      "2        Tasse      Fundjel       au-description/Tasse.mp3  nom commun\n",
      "3      Couteau       7oudmi     au-description/Couteau.mp3  nom commun\n",
      "4     Assiette      Teubsei    au-description/Assiette.mp3  nom commun\n",
      "5   Fourchette  Fourtchetta  au-description/Fourchette.mp3  nom commun\n",
      "6    Cuillière       Mo3lof   au-description/Cuillière.mp3  nom commun\n",
      "7          Mer         P3al         au-description/Mer.mp3  nom commun\n",
      "8      Grenade        Roman     au-description/Grenade.mp3  nom commun\n",
      "9       Maison         daar      au-description/Maison.mp3  nom commun\n",
      "10     Magasin       7enout     au-description/Magasin.mp3  nom commun\n",
      "11         Lit      Matela7         au-description/Lit.mp3  nom commun\n",
      "\n",
      "\n"
     ]
    }
   ],
   "source": [
    "Qlib.createDictionnary(file_name)"
   ]
  },
  {
   "cell_type": "code",
   "execution_count": 10,
   "metadata": {},
   "outputs": [
    {
     "data": {
      "text/html": [
       "\n",
       "                <audio  controls=\"controls\" >\n",
       "                    <source src=\"data:audio/mpeg;base64,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\" type=\"audio/mpeg\" />\n",
       "                    Your browser does not support the audio element.\n",
       "                </audio>\n",
       "              "
      ],
      "text/plain": [
       "<IPython.lib.display.Audio object>"
      ]
     },
     "metadata": {},
     "output_type": "display_data"
    },
    {
     "data": {
      "application/vnd.jupyter.widget-view+json": {
       "model_id": "49ec2fb98fb2497d8f5d36f2d57d8e85",
       "version_major": 2,
       "version_minor": 0
      },
      "text/plain": [
       "Button(icon='question', style=ButtonStyle(), tooltip='Click me')"
      ]
     },
     "metadata": {},
     "output_type": "display_data"
    },
    {
     "data": {
      "application/vnd.jupyter.widget-view+json": {
       "model_id": "c3b095656a984b55b8113030448589a7",
       "version_major": 2,
       "version_minor": 0
      },
      "text/plain": [
       "Output()"
      ]
     },
     "metadata": {},
     "output_type": "display_data"
    }
   ],
   "source": [
    "df = pd.read_csv(file_name)\n",
    "\n",
    "mode = random.randint(0,1)\n",
    "indWord = random.randint(1,len(df.index)-1)\n",
    "\n",
    "if mode == 1:\n",
    "    Mot = widgets.Button(\n",
    "            description='',\n",
    "            disabled=False,\n",
    "            button_style='',\n",
    "            tooltip='Click me',\n",
    "            icon='fa-question'\n",
    "            )\n",
    "    output = widgets.Output()\n",
    "    display(Audio(df['lienAudio'].iloc[indWord]))\n",
    "    display(Mot, output)\n",
    "    def on_mot_click(b):\n",
    "        with output:\n",
    "            output.clear_output(wait=True)\n",
    "            Mot.description = df['mot'].iloc[indWord]\n",
    "            Mot.icon = ''\n",
    "    Mot.on_click(on_mot_click)\n",
    "    \n",
    "else :\n",
    "    Mot = widgets.Button(\n",
    "            description=df['mot'].iloc[indWord],\n",
    "            disabled=False,\n",
    "            button_style='',\n",
    "            tooltip='Click me',\n",
    "            icon=''\n",
    "            )\n",
    "    display(Mot)\n",
    "    display(Audio(df['lienAudio'].iloc[indWord]))\n",
    "    "
   ]
  },
  {
   "cell_type": "code",
   "execution_count": null,
   "metadata": {},
   "outputs": [],
   "source": []
  }
 ],
 "metadata": {
  "kernelspec": {
   "display_name": "Python 3 (ipykernel)",
   "language": "python",
   "name": "python3"
  },
  "language_info": {
   "codemirror_mode": {
    "name": "ipython",
    "version": 3
   },
   "file_extension": ".py",
   "mimetype": "text/x-python",
   "name": "python",
   "nbconvert_exporter": "python",
   "pygments_lexer": "ipython3",
   "version": "3.8.10"
  }
 },
 "nbformat": 4,
 "nbformat_minor": 2
}
