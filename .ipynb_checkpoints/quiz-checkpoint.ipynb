{
 "cells": [
  {
   "cell_type": "code",
   "execution_count": 1,
   "metadata": {},
   "outputs": [],
   "source": [
    "import quiz_lib as Qlib\n",
    "import os\n",
    "import json\n",
    "import IPython\n",
    "import pydub\n",
    "from pydub import AudioSegment\n",
    "import pyaudio\n",
    "import wave\n",
    "import ipywidgets as widgets\n",
    "from IPython.display import display"
   ]
  },
  {
   "cell_type": "code",
   "execution_count": 2,
   "metadata": {},
   "outputs": [
    {
     "data": {
      "application/vnd.jupyter.widget-view+json": {
       "model_id": "849e210de4bd408d82754abc7bcfad7e",
       "version_major": 2,
       "version_minor": 0
      },
      "text/plain": [
       "VBox(children=(Text(value='', description='Add item0:', placeholder='Type something'), Text(value='', descript…"
      ]
     },
     "metadata": {},
     "output_type": "display_data"
    }
   ],
   "source": [
    "lexique = Qlib.createDictionnary()"
   ]
  },
  {
   "cell_type": "code",
   "execution_count": 3,
   "metadata": {},
   "outputs": [],
   "source": [
    "file_name = 'lexiques/lexique0.json'\n",
    "\n",
    "# Writing the list to a JSON file\n",
    "with open(file_name, 'w') as json_file:\n",
    "    json.dump(lexique, json_file)"
   ]
  },
  {
   "cell_type": "code",
   "execution_count": 4,
   "metadata": {},
   "outputs": [
    {
     "name": "stdout",
     "output_type": "stream",
     "text": [
      "List from JSON file: []\n"
     ]
    }
   ],
   "source": [
    "with open(file_name, 'r') as json_file:\n",
    "    my_list = json.load(json_file)\n",
    "\n",
    "# Printing the list\n",
    "print(\"List from JSON file:\", my_list)"
   ]
  }
 ],
 "metadata": {
  "kernelspec": {
   "display_name": "Python 3 (ipykernel)",
   "language": "python",
   "name": "python3"
  },
  "language_info": {
   "codemirror_mode": {
    "name": "ipython",
    "version": 3
   },
   "file_extension": ".py",
   "mimetype": "text/x-python",
   "name": "python",
   "nbconvert_exporter": "python",
   "pygments_lexer": "ipython3",
   "version": "3.8.10"
  }
 },
 "nbformat": 4,
 "nbformat_minor": 2
}
